{
 "cells": [
  {
   "cell_type": "code",
   "execution_count": 20,
   "metadata": {},
   "outputs": [
    {
     "name": "stdout",
     "output_type": "stream",
     "text": [
      "<class 'set'>\n",
      "3\n",
      "{'1010', 1010, 78.9}\n",
      "{'1010', 1010, 12.3}\n",
      "{78.9}\n",
      "{'1010', 1010}\n",
      "{12.3, 78.9}\n",
      "{'1010', 1010, 12.3, 78.9}\n"
     ]
    }
   ],
   "source": [
    "#catalogs\n",
    "\n",
    "\n",
    "S={1010,'1010',78.9}\n",
    "print(type(S))\n",
    "print(len(S))\n",
    "print(S)\n",
    "T={1010,'1010',12.3,1010,1010}\n",
    "print(T)\n",
    "print(S-T)         #factors in S but not in T\n",
    "print(S&T)        #mutual factors in S and T\n",
    "print(S^T)        #except the mutual factors,all the rest\n",
    "print(S|T)        #All factors in S and T\n"
   ]
  },
  {
   "cell_type": "code",
   "execution_count": 21,
   "metadata": {},
   "outputs": [
    {
     "name": "stdout",
     "output_type": "stream",
     "text": [
      "<class 'tuple'>\n"
     ]
    },
    {
     "data": {
      "text/plain": [
       "True"
      ]
     },
     "execution_count": 21,
     "metadata": {},
     "output_type": "execute_result"
    }
   ],
   "source": [
    "#line\n",
    "\n",
    "\n",
    "t=(1,2,3)\n",
    "print(type(t))\n",
    "1 in t\n",
    "\n"
   ]
  },
  {
   "cell_type": "code",
   "execution_count": 11,
   "metadata": {},
   "outputs": [
    {
     "data": {
      "text/plain": [
       "True"
      ]
     },
     "execution_count": 11,
     "metadata": {},
     "output_type": "execute_result"
    }
   ],
   "source": [
    "#line\n",
    "\n",
    "\n",
    "t=(1,2,3)\n",
    "type(t)\n",
    "'1'not in t\n",
    "\n"
   ]
  },
  {
   "cell_type": "code",
   "execution_count": 15,
   "metadata": {},
   "outputs": [
    {
     "name": "stdout",
     "output_type": "stream",
     "text": [
      "<class 'tuple'>\n",
      "(1, 2, 3, 1, 2, 3)\n",
      "2\n",
      "(1, 2)\n",
      "1\n",
      "3\n",
      "1\n",
      "1\n"
     ]
    }
   ],
   "source": [
    "#line\n",
    "\n",
    "\n",
    "t=(1,2,3)\n",
    "\n",
    "print(type(t))\n",
    "print(t*2)\n",
    "print(t[1])\n",
    "print(t[:2])\n",
    "t[: :2]\n",
    "print(min(t))\n",
    "print(max(t))\n",
    "print(t.index(2))          #the loaction of the first 2 in t\n",
    "print(t.count(1))          #the total amount of 1 in t\n",
    "\n"
   ]
  },
  {
   "cell_type": "code",
   "execution_count": 12,
   "metadata": {},
   "outputs": [
    {
     "data": {
      "text/plain": [
       "(1, 2, 3, 4, 5, 6)"
      ]
     },
     "execution_count": 12,
     "metadata": {},
     "output_type": "execute_result"
    }
   ],
   "source": [
    "#line\n",
    "\n",
    "\n",
    "t=(1,2,3)\n",
    "s=(4,5,6)\n",
    "t+s\n"
   ]
  },
  {
   "cell_type": "code",
   "execution_count": 17,
   "metadata": {},
   "outputs": [
    {
     "name": "stdout",
     "output_type": "stream",
     "text": [
      "1and2and3and"
     ]
    }
   ],
   "source": [
    "for c in(1,2,3):\n",
    "    print(c,end=\"and\")\n",
    "\n",
    "\n"
   ]
  },
  {
   "cell_type": "code",
   "execution_count": 18,
   "metadata": {},
   "outputs": [
    {
     "data": {
      "text/plain": [
       "(1, 2, 4)"
      ]
     },
     "execution_count": 18,
     "metadata": {},
     "output_type": "execute_result"
    }
   ],
   "source": [
    "def f(x):\n",
    "    return x, x+1,x+3\n",
    "f(1)"
   ]
  }
 ],
 "metadata": {
  "kernelspec": {
   "display_name": "Python 3",
   "language": "python",
   "name": "python3"
  },
  "language_info": {
   "codemirror_mode": {
    "name": "ipython",
    "version": 3
   },
   "file_extension": ".py",
   "mimetype": "text/x-python",
   "name": "python",
   "nbconvert_exporter": "python",
   "pygments_lexer": "ipython3",
   "version": "3.7.4"
  }
 },
 "nbformat": 4,
 "nbformat_minor": 2
}
